{
 "cells": [
  {
   "cell_type": "code",
   "execution_count": 1,
   "metadata": {},
   "outputs": [
    {
     "name": "stdout",
     "output_type": "stream",
     "text": [
      "28\n"
     ]
    }
   ],
   "source": [
    "# PROGRAM 1.1 IMPLEMENTING OWN VERSION OF REDUCE\n",
    "\n",
    "def myreduce_V2(fun,seq):\n",
    "    it=iter(seq)\n",
    "    temp=next(it)\n",
    "    for ele in it:\n",
    "        temp=fun(temp,ele)\n",
    "    return temp  \n",
    "s={1,7,5,15}\n",
    "res=myreduce_V2(lambda x,y:x+y,s)\n",
    "print(res)"
   ]
  },
  {
   "cell_type": "code",
   "execution_count": 3,
   "metadata": {},
   "outputs": [
    {
     "name": "stdout",
     "output_type": "stream",
     "text": [
      "[14, 8, 12, 8]\n",
      "[14, 8, 12, 8]\n"
     ]
    }
   ],
   "source": [
    "# PROGRAM 1.2 Implementing own version of filter\n",
    "\n",
    "l=[1,14,5,8,5,12,8,5]\n",
    "res=list(filter(lambda x:x%2==0,l))\n",
    "print(res)\n",
    "def myfilter(fun,seq):\n",
    "    for ele in seq:\n",
    "        if(fun(ele)==True):\n",
    "            yield ele\n",
    "res1=list(myfilter(lambda x:x%2==0,l))\n",
    "print(res1)"
   ]
  },
  {
   "cell_type": "code",
   "execution_count": 4,
   "metadata": {},
   "outputs": [
    {
     "name": "stdout",
     "output_type": "stream",
     "text": [
      "['A', 'C', 'A', 'D', 'G', 'I', 'L', 'D']\n"
     ]
    }
   ],
   "source": [
    "#   PROGRAM 2 LIST COMPREHENSION\n",
    "\n",
    "\n",
    "l1=['A', 'C', 'A', 'D', 'G', 'I', 'L', 'D']\n",
    "print([x for x in l1])"
   ]
  },
  {
   "cell_type": "code",
   "execution_count": 6,
   "metadata": {},
   "outputs": [
    {
     "name": "stdout",
     "output_type": "stream",
     "text": [
      "['x', 'xx', 'xxx', 'xxxx', 'y', 'yy', 'yyy', 'yyyy', 'z', 'zz', 'zzz', 'zzzz']\n"
     ]
    }
   ],
   "source": [
    "l2=['x','y','z']\n",
    "l2_res=[x*i for x in l2 for i in range(1,5)]\n",
    "print(l2_res)"
   ]
  },
  {
   "cell_type": "code",
   "execution_count": 7,
   "metadata": {},
   "outputs": [
    {
     "name": "stdout",
     "output_type": "stream",
     "text": [
      "['x', 'y', 'z', 'xx', 'yy', 'zz', 'xxx', 'yyy', 'zzz', 'xxxx', 'yyyy', 'zzzz']\n"
     ]
    }
   ],
   "source": [
    "l3_res=[x*i for i in range(1,5) for x in l2]\n",
    "print(l3_res)"
   ]
  },
  {
   "cell_type": "code",
   "execution_count": 8,
   "metadata": {},
   "outputs": [
    {
     "name": "stdout",
     "output_type": "stream",
     "text": [
      "[[2], [3], [4], [3], [4], [5], [4], [5], [6]]\n"
     ]
    }
   ],
   "source": [
    "l4=[[i+x] for x in range(3) for i in range(2,5)]\n",
    "print(l4)"
   ]
  },
  {
   "cell_type": "code",
   "execution_count": 9,
   "metadata": {},
   "outputs": [
    {
     "name": "stdout",
     "output_type": "stream",
     "text": [
      "[[2, 3, 4, 5], [3, 4, 5, 6], [4, 5, 6, 7], [5, 6, 7, 8]]\n"
     ]
    }
   ],
   "source": [
    "l5=[[i+x for x in range(4)] for i in range(2,6)]\n",
    "print(l5)"
   ]
  },
  {
   "cell_type": "code",
   "execution_count": 10,
   "metadata": {},
   "outputs": [
    {
     "name": "stdout",
     "output_type": "stream",
     "text": [
      "[(1, 1), (1, 2), (1, 3), (2, 1), (2, 2), (2, 3), (3, 1), (3, 2), (3, 3)]\n"
     ]
    }
   ],
   "source": [
    "l6=[(j,i) for j in range(1,4) for i in range(1,4)]\n",
    "print(l6)"
   ]
  },
  {
   "cell_type": "code",
   "execution_count": 11,
   "metadata": {},
   "outputs": [
    {
     "name": "stdout",
     "output_type": "stream",
     "text": [
      "abcjjjjj\n"
     ]
    }
   ],
   "source": [
    "# Printing the longest word\n",
    "\n",
    "\n",
    "l=[\"ax\",\"ab\",\"abcjjjjj\",\"abcd\"]\n",
    "def longest_word(listt):\n",
    "    largestword=\"\"\n",
    "    temp=0\n",
    "    for x in listt:\n",
    "        if len(x)>temp:  \n",
    "            temp=len(x)\n",
    "            largestword=x\n",
    "    return largestword\n",
    "print(longest_word(l))"
   ]
  },
  {
   "cell_type": "code",
   "execution_count": 12,
   "metadata": {},
   "outputs": [
    {
     "name": "stdout",
     "output_type": "stream",
     "text": [
      "['abcd', 'abcde']\n"
     ]
    }
   ],
   "source": [
    "#  Program 1.2\n",
    "\n",
    "\n",
    "l=[\"a\",\"ab\",\"abcd\",\"abcde\"]\n",
    "l1=[]\n",
    "def filter_long_words(lwords,n):\n",
    "    for ele in lwords:\n",
    "        if(len(ele)>n):\n",
    "            l1.append(ele)\n",
    "filter_long_words(l,2)\n",
    "print(l1)"
   ]
  },
  {
   "cell_type": "code",
   "execution_count": 13,
   "metadata": {},
   "outputs": [
    {
     "name": "stdout",
     "output_type": "stream",
     "text": [
      "[2, 3, 4]\n"
     ]
    }
   ],
   "source": [
    "# finding the length of the earch word\n",
    "\n",
    "\n",
    "l=['ab','cde','erty']\n",
    "l1=list(map(lambda x:len(x),l))\n",
    "print(l1)"
   ]
  },
  {
   "cell_type": "code",
   "execution_count": 28,
   "metadata": {},
   "outputs": [
    {
     "name": "stdout",
     "output_type": "stream",
     "text": [
      "True\n"
     ]
    }
   ],
   "source": [
    "# writing a python function of vowels whether it is true or false\n",
    "\n",
    "\n",
    "def returnvowel(s):\n",
    "    vowels=['a','e','i','o','u']\n",
    "    if len(s)==1:\n",
    "        if s in vowels :\n",
    "            return True \n",
    "        else:\n",
    "            return False \n",
    "    else:\n",
    "        print(\"Invalid Input \")\n",
    "print(returnvowel('o'))"
   ]
  },
  {
   "cell_type": "code",
   "execution_count": 30,
   "metadata": {},
   "outputs": [
    {
     "name": "stdout",
     "output_type": "stream",
     "text": [
      "30.0\n",
      "0.0\n"
     ]
    }
   ],
   "source": [
    "# finding an area of triangle  area = (s(s-a)(s-b)*(s-c)) ** 0.5\n",
    "\n",
    "class Parent:\n",
    "    def __init__(self,a,b,c):\n",
    "        self.a=a\n",
    "        self.b=b\n",
    "        self.c=c\n",
    "class Child(Parent):\n",
    "    def area(self):\n",
    "        s=0.5*(self.a+self.b+self.c)\n",
    "        print(s)\n",
    "        area=(s*(s-self.a)*(s-self.b)*(s-self.c)) ** 0.5\n",
    "        print(area)\n",
    "c=Child(10,20,30)\n",
    "c.area()"
   ]
  },
  {
   "cell_type": "code",
   "execution_count": null,
   "metadata": {},
   "outputs": [],
   "source": []
  }
 ],
 "metadata": {
  "kernelspec": {
   "display_name": "Python 3",
   "language": "python",
   "name": "python3"
  },
  "language_info": {
   "codemirror_mode": {
    "name": "ipython",
    "version": 3
   },
   "file_extension": ".py",
   "mimetype": "text/x-python",
   "name": "python",
   "nbconvert_exporter": "python",
   "pygments_lexer": "ipython3",
   "version": "3.7.3"
  }
 },
 "nbformat": 4,
 "nbformat_minor": 2
}
